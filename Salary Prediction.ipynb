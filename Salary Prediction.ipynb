{
 "cells": [
  {
   "cell_type": "code",
   "execution_count": 1,
   "id": "6d60702c",
   "metadata": {},
   "outputs": [],
   "source": [
    "import pandas as pd\n",
    "import numpy as np"
   ]
  },
  {
   "cell_type": "code",
   "execution_count": 2,
   "id": "5714cf8c",
   "metadata": {},
   "outputs": [
    {
     "data": {
      "text/html": [
       "<div>\n",
       "<style scoped>\n",
       "    .dataframe tbody tr th:only-of-type {\n",
       "        vertical-align: middle;\n",
       "    }\n",
       "\n",
       "    .dataframe tbody tr th {\n",
       "        vertical-align: top;\n",
       "    }\n",
       "\n",
       "    .dataframe thead th {\n",
       "        text-align: right;\n",
       "    }\n",
       "</style>\n",
       "<table border=\"1\" class=\"dataframe\">\n",
       "  <thead>\n",
       "    <tr style=\"text-align: right;\">\n",
       "      <th></th>\n",
       "      <th>Education</th>\n",
       "      <th>Experience</th>\n",
       "      <th>Location</th>\n",
       "      <th>Job_Title</th>\n",
       "      <th>Age</th>\n",
       "      <th>Gender</th>\n",
       "      <th>Salary</th>\n",
       "    </tr>\n",
       "  </thead>\n",
       "  <tbody>\n",
       "    <tr>\n",
       "      <th>0</th>\n",
       "      <td>High School</td>\n",
       "      <td>8</td>\n",
       "      <td>Urban</td>\n",
       "      <td>Manager</td>\n",
       "      <td>63</td>\n",
       "      <td>Male</td>\n",
       "      <td>84620.053665</td>\n",
       "    </tr>\n",
       "    <tr>\n",
       "      <th>1</th>\n",
       "      <td>PhD</td>\n",
       "      <td>11</td>\n",
       "      <td>Suburban</td>\n",
       "      <td>Director</td>\n",
       "      <td>59</td>\n",
       "      <td>Male</td>\n",
       "      <td>142591.255894</td>\n",
       "    </tr>\n",
       "    <tr>\n",
       "      <th>2</th>\n",
       "      <td>Bachelor</td>\n",
       "      <td>28</td>\n",
       "      <td>Suburban</td>\n",
       "      <td>Manager</td>\n",
       "      <td>61</td>\n",
       "      <td>Female</td>\n",
       "      <td>97800.255404</td>\n",
       "    </tr>\n",
       "    <tr>\n",
       "      <th>3</th>\n",
       "      <td>High School</td>\n",
       "      <td>29</td>\n",
       "      <td>Rural</td>\n",
       "      <td>Director</td>\n",
       "      <td>45</td>\n",
       "      <td>Male</td>\n",
       "      <td>96834.671282</td>\n",
       "    </tr>\n",
       "    <tr>\n",
       "      <th>4</th>\n",
       "      <td>PhD</td>\n",
       "      <td>25</td>\n",
       "      <td>Urban</td>\n",
       "      <td>Analyst</td>\n",
       "      <td>26</td>\n",
       "      <td>Female</td>\n",
       "      <td>132157.786175</td>\n",
       "    </tr>\n",
       "    <tr>\n",
       "      <th>...</th>\n",
       "      <td>...</td>\n",
       "      <td>...</td>\n",
       "      <td>...</td>\n",
       "      <td>...</td>\n",
       "      <td>...</td>\n",
       "      <td>...</td>\n",
       "      <td>...</td>\n",
       "    </tr>\n",
       "    <tr>\n",
       "      <th>995</th>\n",
       "      <td>High School</td>\n",
       "      <td>8</td>\n",
       "      <td>Suburban</td>\n",
       "      <td>Analyst</td>\n",
       "      <td>25</td>\n",
       "      <td>Female</td>\n",
       "      <td>64683.389864</td>\n",
       "    </tr>\n",
       "    <tr>\n",
       "      <th>996</th>\n",
       "      <td>High School</td>\n",
       "      <td>24</td>\n",
       "      <td>Urban</td>\n",
       "      <td>Engineer</td>\n",
       "      <td>30</td>\n",
       "      <td>Female</td>\n",
       "      <td>74468.205020</td>\n",
       "    </tr>\n",
       "    <tr>\n",
       "      <th>997</th>\n",
       "      <td>Master</td>\n",
       "      <td>18</td>\n",
       "      <td>Rural</td>\n",
       "      <td>Analyst</td>\n",
       "      <td>44</td>\n",
       "      <td>Male</td>\n",
       "      <td>98207.026024</td>\n",
       "    </tr>\n",
       "    <tr>\n",
       "      <th>998</th>\n",
       "      <td>Bachelor</td>\n",
       "      <td>27</td>\n",
       "      <td>Suburban</td>\n",
       "      <td>Director</td>\n",
       "      <td>31</td>\n",
       "      <td>Female</td>\n",
       "      <td>108544.922720</td>\n",
       "    </tr>\n",
       "    <tr>\n",
       "      <th>999</th>\n",
       "      <td>High School</td>\n",
       "      <td>25</td>\n",
       "      <td>Urban</td>\n",
       "      <td>Director</td>\n",
       "      <td>41</td>\n",
       "      <td>Female</td>\n",
       "      <td>71077.000066</td>\n",
       "    </tr>\n",
       "  </tbody>\n",
       "</table>\n",
       "<p>1000 rows × 7 columns</p>\n",
       "</div>"
      ],
      "text/plain": [
       "       Education  Experience  Location Job_Title  Age  Gender         Salary\n",
       "0    High School           8     Urban   Manager   63    Male   84620.053665\n",
       "1            PhD          11  Suburban  Director   59    Male  142591.255894\n",
       "2       Bachelor          28  Suburban   Manager   61  Female   97800.255404\n",
       "3    High School          29     Rural  Director   45    Male   96834.671282\n",
       "4            PhD          25     Urban   Analyst   26  Female  132157.786175\n",
       "..           ...         ...       ...       ...  ...     ...            ...\n",
       "995  High School           8  Suburban   Analyst   25  Female   64683.389864\n",
       "996  High School          24     Urban  Engineer   30  Female   74468.205020\n",
       "997       Master          18     Rural   Analyst   44    Male   98207.026024\n",
       "998     Bachelor          27  Suburban  Director   31  Female  108544.922720\n",
       "999  High School          25     Urban  Director   41  Female   71077.000066\n",
       "\n",
       "[1000 rows x 7 columns]"
      ]
     },
     "execution_count": 2,
     "metadata": {},
     "output_type": "execute_result"
    }
   ],
   "source": [
    "df= pd.read_csv(\"salary_prediction_data.csv\")\n",
    "df"
   ]
  },
  {
   "cell_type": "code",
   "execution_count": 3,
   "id": "d113cf73",
   "metadata": {},
   "outputs": [
    {
     "name": "stdout",
     "output_type": "stream",
     "text": [
      "<class 'pandas.core.frame.DataFrame'>\n",
      "RangeIndex: 1000 entries, 0 to 999\n",
      "Data columns (total 7 columns):\n",
      " #   Column      Non-Null Count  Dtype  \n",
      "---  ------      --------------  -----  \n",
      " 0   Education   1000 non-null   object \n",
      " 1   Experience  1000 non-null   int64  \n",
      " 2   Location    1000 non-null   object \n",
      " 3   Job_Title   1000 non-null   object \n",
      " 4   Age         1000 non-null   int64  \n",
      " 5   Gender      1000 non-null   object \n",
      " 6   Salary      1000 non-null   float64\n",
      "dtypes: float64(1), int64(2), object(4)\n",
      "memory usage: 54.8+ KB\n"
     ]
    }
   ],
   "source": [
    "df.info()"
   ]
  },
  {
   "cell_type": "code",
   "execution_count": 4,
   "id": "cd0d1793",
   "metadata": {},
   "outputs": [
    {
     "data": {
      "text/plain": [
       "Education\n",
       "High School    255\n",
       "Bachelor       253\n",
       "PhD            251\n",
       "Master         241\n",
       "Name: count, dtype: int64"
      ]
     },
     "execution_count": 4,
     "metadata": {},
     "output_type": "execute_result"
    }
   ],
   "source": [
    "df[\"Education\"].value_counts()"
   ]
  },
  {
   "cell_type": "code",
   "execution_count": 5,
   "id": "df74d5a3",
   "metadata": {},
   "outputs": [
    {
     "data": {
      "text/plain": [
       "{'High School': 255, 'Bachelor': 253, 'PhD': 251, 'Master': 241}"
      ]
     },
     "execution_count": 5,
     "metadata": {},
     "output_type": "execute_result"
    }
   ],
   "source": [
    "df[\"Education\"].value_counts().to_dict()"
   ]
  },
  {
   "cell_type": "code",
   "execution_count": 8,
   "id": "fcc2a5c4",
   "metadata": {},
   "outputs": [
    {
     "name": "stderr",
     "output_type": "stream",
     "text": [
      "C:\\Users\\Kirtibala.Gujar\\AppData\\Local\\Temp\\ipykernel_14132\\760590474.py:1: FutureWarning: Downcasting behavior in `replace` is deprecated and will be removed in a future version. To retain the old behavior, explicitly call `result.infer_objects(copy=False)`. To opt-in to the future behavior, set `pd.set_option('future.no_silent_downcasting', True)`\n",
      "  df[\"Education\"]= df[\"Education\"].replace({\"High School\":0,\"Bachelor\":1, \"PhD\":2, \"Master\":3})\n"
     ]
    },
    {
     "data": {
      "text/html": [
       "<div>\n",
       "<style scoped>\n",
       "    .dataframe tbody tr th:only-of-type {\n",
       "        vertical-align: middle;\n",
       "    }\n",
       "\n",
       "    .dataframe tbody tr th {\n",
       "        vertical-align: top;\n",
       "    }\n",
       "\n",
       "    .dataframe thead th {\n",
       "        text-align: right;\n",
       "    }\n",
       "</style>\n",
       "<table border=\"1\" class=\"dataframe\">\n",
       "  <thead>\n",
       "    <tr style=\"text-align: right;\">\n",
       "      <th></th>\n",
       "      <th>Education</th>\n",
       "      <th>Experience</th>\n",
       "      <th>Location</th>\n",
       "      <th>Job_Title</th>\n",
       "      <th>Age</th>\n",
       "      <th>Gender</th>\n",
       "      <th>Salary</th>\n",
       "    </tr>\n",
       "  </thead>\n",
       "  <tbody>\n",
       "    <tr>\n",
       "      <th>0</th>\n",
       "      <td>0</td>\n",
       "      <td>8</td>\n",
       "      <td>Urban</td>\n",
       "      <td>Manager</td>\n",
       "      <td>63</td>\n",
       "      <td>Male</td>\n",
       "      <td>84620.053665</td>\n",
       "    </tr>\n",
       "    <tr>\n",
       "      <th>1</th>\n",
       "      <td>2</td>\n",
       "      <td>11</td>\n",
       "      <td>Suburban</td>\n",
       "      <td>Director</td>\n",
       "      <td>59</td>\n",
       "      <td>Male</td>\n",
       "      <td>142591.255894</td>\n",
       "    </tr>\n",
       "    <tr>\n",
       "      <th>2</th>\n",
       "      <td>1</td>\n",
       "      <td>28</td>\n",
       "      <td>Suburban</td>\n",
       "      <td>Manager</td>\n",
       "      <td>61</td>\n",
       "      <td>Female</td>\n",
       "      <td>97800.255404</td>\n",
       "    </tr>\n",
       "    <tr>\n",
       "      <th>3</th>\n",
       "      <td>0</td>\n",
       "      <td>29</td>\n",
       "      <td>Rural</td>\n",
       "      <td>Director</td>\n",
       "      <td>45</td>\n",
       "      <td>Male</td>\n",
       "      <td>96834.671282</td>\n",
       "    </tr>\n",
       "    <tr>\n",
       "      <th>4</th>\n",
       "      <td>2</td>\n",
       "      <td>25</td>\n",
       "      <td>Urban</td>\n",
       "      <td>Analyst</td>\n",
       "      <td>26</td>\n",
       "      <td>Female</td>\n",
       "      <td>132157.786175</td>\n",
       "    </tr>\n",
       "    <tr>\n",
       "      <th>...</th>\n",
       "      <td>...</td>\n",
       "      <td>...</td>\n",
       "      <td>...</td>\n",
       "      <td>...</td>\n",
       "      <td>...</td>\n",
       "      <td>...</td>\n",
       "      <td>...</td>\n",
       "    </tr>\n",
       "    <tr>\n",
       "      <th>995</th>\n",
       "      <td>0</td>\n",
       "      <td>8</td>\n",
       "      <td>Suburban</td>\n",
       "      <td>Analyst</td>\n",
       "      <td>25</td>\n",
       "      <td>Female</td>\n",
       "      <td>64683.389864</td>\n",
       "    </tr>\n",
       "    <tr>\n",
       "      <th>996</th>\n",
       "      <td>0</td>\n",
       "      <td>24</td>\n",
       "      <td>Urban</td>\n",
       "      <td>Engineer</td>\n",
       "      <td>30</td>\n",
       "      <td>Female</td>\n",
       "      <td>74468.205020</td>\n",
       "    </tr>\n",
       "    <tr>\n",
       "      <th>997</th>\n",
       "      <td>3</td>\n",
       "      <td>18</td>\n",
       "      <td>Rural</td>\n",
       "      <td>Analyst</td>\n",
       "      <td>44</td>\n",
       "      <td>Male</td>\n",
       "      <td>98207.026024</td>\n",
       "    </tr>\n",
       "    <tr>\n",
       "      <th>998</th>\n",
       "      <td>1</td>\n",
       "      <td>27</td>\n",
       "      <td>Suburban</td>\n",
       "      <td>Director</td>\n",
       "      <td>31</td>\n",
       "      <td>Female</td>\n",
       "      <td>108544.922720</td>\n",
       "    </tr>\n",
       "    <tr>\n",
       "      <th>999</th>\n",
       "      <td>0</td>\n",
       "      <td>25</td>\n",
       "      <td>Urban</td>\n",
       "      <td>Director</td>\n",
       "      <td>41</td>\n",
       "      <td>Female</td>\n",
       "      <td>71077.000066</td>\n",
       "    </tr>\n",
       "  </tbody>\n",
       "</table>\n",
       "<p>1000 rows × 7 columns</p>\n",
       "</div>"
      ],
      "text/plain": [
       "     Education  Experience  Location Job_Title  Age  Gender         Salary\n",
       "0            0           8     Urban   Manager   63    Male   84620.053665\n",
       "1            2          11  Suburban  Director   59    Male  142591.255894\n",
       "2            1          28  Suburban   Manager   61  Female   97800.255404\n",
       "3            0          29     Rural  Director   45    Male   96834.671282\n",
       "4            2          25     Urban   Analyst   26  Female  132157.786175\n",
       "..         ...         ...       ...       ...  ...     ...            ...\n",
       "995          0           8  Suburban   Analyst   25  Female   64683.389864\n",
       "996          0          24     Urban  Engineer   30  Female   74468.205020\n",
       "997          3          18     Rural   Analyst   44    Male   98207.026024\n",
       "998          1          27  Suburban  Director   31  Female  108544.922720\n",
       "999          0          25     Urban  Director   41  Female   71077.000066\n",
       "\n",
       "[1000 rows x 7 columns]"
      ]
     },
     "execution_count": 8,
     "metadata": {},
     "output_type": "execute_result"
    }
   ],
   "source": [
    "df[\"Education\"]= df[\"Education\"].replace({\"High School\":0,\"Bachelor\":1, \"PhD\":2, \"Master\":3})\n",
    "df"
   ]
  },
  {
   "cell_type": "code",
   "execution_count": 9,
   "id": "96d1e6ab",
   "metadata": {},
   "outputs": [
    {
     "data": {
      "text/plain": [
       "Location\n",
       "Suburban    345\n",
       "Rural       345\n",
       "Urban       310\n",
       "Name: count, dtype: int64"
      ]
     },
     "execution_count": 9,
     "metadata": {},
     "output_type": "execute_result"
    }
   ],
   "source": [
    "df[\"Location\"].value_counts()"
   ]
  },
  {
   "cell_type": "code",
   "execution_count": 10,
   "id": "043e581a",
   "metadata": {},
   "outputs": [
    {
     "data": {
      "text/plain": [
       "{'Suburban': 345, 'Rural': 345, 'Urban': 310}"
      ]
     },
     "execution_count": 10,
     "metadata": {},
     "output_type": "execute_result"
    }
   ],
   "source": [
    "df[\"Location\"].value_counts().to_dict()\n"
   ]
  },
  {
   "cell_type": "code",
   "execution_count": 12,
   "id": "8ac1b85a",
   "metadata": {},
   "outputs": [
    {
     "data": {
      "text/html": [
       "<div>\n",
       "<style scoped>\n",
       "    .dataframe tbody tr th:only-of-type {\n",
       "        vertical-align: middle;\n",
       "    }\n",
       "\n",
       "    .dataframe tbody tr th {\n",
       "        vertical-align: top;\n",
       "    }\n",
       "\n",
       "    .dataframe thead th {\n",
       "        text-align: right;\n",
       "    }\n",
       "</style>\n",
       "<table border=\"1\" class=\"dataframe\">\n",
       "  <thead>\n",
       "    <tr style=\"text-align: right;\">\n",
       "      <th></th>\n",
       "      <th>Education</th>\n",
       "      <th>Experience</th>\n",
       "      <th>Location</th>\n",
       "      <th>Job_Title</th>\n",
       "      <th>Age</th>\n",
       "      <th>Gender</th>\n",
       "      <th>Salary</th>\n",
       "    </tr>\n",
       "  </thead>\n",
       "  <tbody>\n",
       "    <tr>\n",
       "      <th>0</th>\n",
       "      <td>0</td>\n",
       "      <td>8</td>\n",
       "      <td>2</td>\n",
       "      <td>Manager</td>\n",
       "      <td>63</td>\n",
       "      <td>Male</td>\n",
       "      <td>84620.053665</td>\n",
       "    </tr>\n",
       "    <tr>\n",
       "      <th>1</th>\n",
       "      <td>2</td>\n",
       "      <td>11</td>\n",
       "      <td>0</td>\n",
       "      <td>Director</td>\n",
       "      <td>59</td>\n",
       "      <td>Male</td>\n",
       "      <td>142591.255894</td>\n",
       "    </tr>\n",
       "    <tr>\n",
       "      <th>2</th>\n",
       "      <td>1</td>\n",
       "      <td>28</td>\n",
       "      <td>0</td>\n",
       "      <td>Manager</td>\n",
       "      <td>61</td>\n",
       "      <td>Female</td>\n",
       "      <td>97800.255404</td>\n",
       "    </tr>\n",
       "    <tr>\n",
       "      <th>3</th>\n",
       "      <td>0</td>\n",
       "      <td>29</td>\n",
       "      <td>1</td>\n",
       "      <td>Director</td>\n",
       "      <td>45</td>\n",
       "      <td>Male</td>\n",
       "      <td>96834.671282</td>\n",
       "    </tr>\n",
       "    <tr>\n",
       "      <th>4</th>\n",
       "      <td>2</td>\n",
       "      <td>25</td>\n",
       "      <td>2</td>\n",
       "      <td>Analyst</td>\n",
       "      <td>26</td>\n",
       "      <td>Female</td>\n",
       "      <td>132157.786175</td>\n",
       "    </tr>\n",
       "    <tr>\n",
       "      <th>...</th>\n",
       "      <td>...</td>\n",
       "      <td>...</td>\n",
       "      <td>...</td>\n",
       "      <td>...</td>\n",
       "      <td>...</td>\n",
       "      <td>...</td>\n",
       "      <td>...</td>\n",
       "    </tr>\n",
       "    <tr>\n",
       "      <th>995</th>\n",
       "      <td>0</td>\n",
       "      <td>8</td>\n",
       "      <td>0</td>\n",
       "      <td>Analyst</td>\n",
       "      <td>25</td>\n",
       "      <td>Female</td>\n",
       "      <td>64683.389864</td>\n",
       "    </tr>\n",
       "    <tr>\n",
       "      <th>996</th>\n",
       "      <td>0</td>\n",
       "      <td>24</td>\n",
       "      <td>2</td>\n",
       "      <td>Engineer</td>\n",
       "      <td>30</td>\n",
       "      <td>Female</td>\n",
       "      <td>74468.205020</td>\n",
       "    </tr>\n",
       "    <tr>\n",
       "      <th>997</th>\n",
       "      <td>3</td>\n",
       "      <td>18</td>\n",
       "      <td>1</td>\n",
       "      <td>Analyst</td>\n",
       "      <td>44</td>\n",
       "      <td>Male</td>\n",
       "      <td>98207.026024</td>\n",
       "    </tr>\n",
       "    <tr>\n",
       "      <th>998</th>\n",
       "      <td>1</td>\n",
       "      <td>27</td>\n",
       "      <td>0</td>\n",
       "      <td>Director</td>\n",
       "      <td>31</td>\n",
       "      <td>Female</td>\n",
       "      <td>108544.922720</td>\n",
       "    </tr>\n",
       "    <tr>\n",
       "      <th>999</th>\n",
       "      <td>0</td>\n",
       "      <td>25</td>\n",
       "      <td>2</td>\n",
       "      <td>Director</td>\n",
       "      <td>41</td>\n",
       "      <td>Female</td>\n",
       "      <td>71077.000066</td>\n",
       "    </tr>\n",
       "  </tbody>\n",
       "</table>\n",
       "<p>1000 rows × 7 columns</p>\n",
       "</div>"
      ],
      "text/plain": [
       "     Education  Experience  Location Job_Title  Age  Gender         Salary\n",
       "0            0           8         2   Manager   63    Male   84620.053665\n",
       "1            2          11         0  Director   59    Male  142591.255894\n",
       "2            1          28         0   Manager   61  Female   97800.255404\n",
       "3            0          29         1  Director   45    Male   96834.671282\n",
       "4            2          25         2   Analyst   26  Female  132157.786175\n",
       "..         ...         ...       ...       ...  ...     ...            ...\n",
       "995          0           8         0   Analyst   25  Female   64683.389864\n",
       "996          0          24         2  Engineer   30  Female   74468.205020\n",
       "997          3          18         1   Analyst   44    Male   98207.026024\n",
       "998          1          27         0  Director   31  Female  108544.922720\n",
       "999          0          25         2  Director   41  Female   71077.000066\n",
       "\n",
       "[1000 rows x 7 columns]"
      ]
     },
     "execution_count": 12,
     "metadata": {},
     "output_type": "execute_result"
    }
   ],
   "source": [
    "df[\"Location\"]= df[\"Location\"].replace({\"Suburban\":0,\"Rural\":1, \"Urban\":2})\n",
    "df"
   ]
  },
  {
   "cell_type": "code",
   "execution_count": 13,
   "id": "aeb3c599",
   "metadata": {},
   "outputs": [
    {
     "data": {
      "text/plain": [
       "Job_Title\n",
       "Director    275\n",
       "Analyst     255\n",
       "Manager     241\n",
       "Engineer    229\n",
       "Name: count, dtype: int64"
      ]
     },
     "execution_count": 13,
     "metadata": {},
     "output_type": "execute_result"
    }
   ],
   "source": [
    "df[\"Job_Title\"].value_counts()"
   ]
  },
  {
   "cell_type": "code",
   "execution_count": 14,
   "id": "d18139c9",
   "metadata": {},
   "outputs": [
    {
     "data": {
      "text/plain": [
       "{'Director': 275, 'Analyst': 255, 'Manager': 241, 'Engineer': 229}"
      ]
     },
     "execution_count": 14,
     "metadata": {},
     "output_type": "execute_result"
    }
   ],
   "source": [
    "df[\"Job_Title\"].value_counts().to_dict()"
   ]
  },
  {
   "cell_type": "code",
   "execution_count": 15,
   "id": "21bb147b",
   "metadata": {},
   "outputs": [
    {
     "name": "stderr",
     "output_type": "stream",
     "text": [
      "C:\\Users\\Kirtibala.Gujar\\AppData\\Local\\Temp\\ipykernel_14132\\1062458647.py:1: FutureWarning: Downcasting behavior in `replace` is deprecated and will be removed in a future version. To retain the old behavior, explicitly call `result.infer_objects(copy=False)`. To opt-in to the future behavior, set `pd.set_option('future.no_silent_downcasting', True)`\n",
      "  df[\"Job_Title\"]=df[\"Job_Title\"].replace({\"Director\":0, \"Analyst\":1, \"Manager\":2, \"Engineer\":3})\n"
     ]
    },
    {
     "data": {
      "text/html": [
       "<div>\n",
       "<style scoped>\n",
       "    .dataframe tbody tr th:only-of-type {\n",
       "        vertical-align: middle;\n",
       "    }\n",
       "\n",
       "    .dataframe tbody tr th {\n",
       "        vertical-align: top;\n",
       "    }\n",
       "\n",
       "    .dataframe thead th {\n",
       "        text-align: right;\n",
       "    }\n",
       "</style>\n",
       "<table border=\"1\" class=\"dataframe\">\n",
       "  <thead>\n",
       "    <tr style=\"text-align: right;\">\n",
       "      <th></th>\n",
       "      <th>Education</th>\n",
       "      <th>Experience</th>\n",
       "      <th>Location</th>\n",
       "      <th>Job_Title</th>\n",
       "      <th>Age</th>\n",
       "      <th>Gender</th>\n",
       "      <th>Salary</th>\n",
       "    </tr>\n",
       "  </thead>\n",
       "  <tbody>\n",
       "    <tr>\n",
       "      <th>0</th>\n",
       "      <td>0</td>\n",
       "      <td>8</td>\n",
       "      <td>2</td>\n",
       "      <td>2</td>\n",
       "      <td>63</td>\n",
       "      <td>Male</td>\n",
       "      <td>84620.053665</td>\n",
       "    </tr>\n",
       "    <tr>\n",
       "      <th>1</th>\n",
       "      <td>2</td>\n",
       "      <td>11</td>\n",
       "      <td>0</td>\n",
       "      <td>0</td>\n",
       "      <td>59</td>\n",
       "      <td>Male</td>\n",
       "      <td>142591.255894</td>\n",
       "    </tr>\n",
       "    <tr>\n",
       "      <th>2</th>\n",
       "      <td>1</td>\n",
       "      <td>28</td>\n",
       "      <td>0</td>\n",
       "      <td>2</td>\n",
       "      <td>61</td>\n",
       "      <td>Female</td>\n",
       "      <td>97800.255404</td>\n",
       "    </tr>\n",
       "    <tr>\n",
       "      <th>3</th>\n",
       "      <td>0</td>\n",
       "      <td>29</td>\n",
       "      <td>1</td>\n",
       "      <td>0</td>\n",
       "      <td>45</td>\n",
       "      <td>Male</td>\n",
       "      <td>96834.671282</td>\n",
       "    </tr>\n",
       "    <tr>\n",
       "      <th>4</th>\n",
       "      <td>2</td>\n",
       "      <td>25</td>\n",
       "      <td>2</td>\n",
       "      <td>1</td>\n",
       "      <td>26</td>\n",
       "      <td>Female</td>\n",
       "      <td>132157.786175</td>\n",
       "    </tr>\n",
       "    <tr>\n",
       "      <th>...</th>\n",
       "      <td>...</td>\n",
       "      <td>...</td>\n",
       "      <td>...</td>\n",
       "      <td>...</td>\n",
       "      <td>...</td>\n",
       "      <td>...</td>\n",
       "      <td>...</td>\n",
       "    </tr>\n",
       "    <tr>\n",
       "      <th>995</th>\n",
       "      <td>0</td>\n",
       "      <td>8</td>\n",
       "      <td>0</td>\n",
       "      <td>1</td>\n",
       "      <td>25</td>\n",
       "      <td>Female</td>\n",
       "      <td>64683.389864</td>\n",
       "    </tr>\n",
       "    <tr>\n",
       "      <th>996</th>\n",
       "      <td>0</td>\n",
       "      <td>24</td>\n",
       "      <td>2</td>\n",
       "      <td>3</td>\n",
       "      <td>30</td>\n",
       "      <td>Female</td>\n",
       "      <td>74468.205020</td>\n",
       "    </tr>\n",
       "    <tr>\n",
       "      <th>997</th>\n",
       "      <td>3</td>\n",
       "      <td>18</td>\n",
       "      <td>1</td>\n",
       "      <td>1</td>\n",
       "      <td>44</td>\n",
       "      <td>Male</td>\n",
       "      <td>98207.026024</td>\n",
       "    </tr>\n",
       "    <tr>\n",
       "      <th>998</th>\n",
       "      <td>1</td>\n",
       "      <td>27</td>\n",
       "      <td>0</td>\n",
       "      <td>0</td>\n",
       "      <td>31</td>\n",
       "      <td>Female</td>\n",
       "      <td>108544.922720</td>\n",
       "    </tr>\n",
       "    <tr>\n",
       "      <th>999</th>\n",
       "      <td>0</td>\n",
       "      <td>25</td>\n",
       "      <td>2</td>\n",
       "      <td>0</td>\n",
       "      <td>41</td>\n",
       "      <td>Female</td>\n",
       "      <td>71077.000066</td>\n",
       "    </tr>\n",
       "  </tbody>\n",
       "</table>\n",
       "<p>1000 rows × 7 columns</p>\n",
       "</div>"
      ],
      "text/plain": [
       "     Education  Experience  Location  Job_Title  Age  Gender         Salary\n",
       "0            0           8         2          2   63    Male   84620.053665\n",
       "1            2          11         0          0   59    Male  142591.255894\n",
       "2            1          28         0          2   61  Female   97800.255404\n",
       "3            0          29         1          0   45    Male   96834.671282\n",
       "4            2          25         2          1   26  Female  132157.786175\n",
       "..         ...         ...       ...        ...  ...     ...            ...\n",
       "995          0           8         0          1   25  Female   64683.389864\n",
       "996          0          24         2          3   30  Female   74468.205020\n",
       "997          3          18         1          1   44    Male   98207.026024\n",
       "998          1          27         0          0   31  Female  108544.922720\n",
       "999          0          25         2          0   41  Female   71077.000066\n",
       "\n",
       "[1000 rows x 7 columns]"
      ]
     },
     "execution_count": 15,
     "metadata": {},
     "output_type": "execute_result"
    }
   ],
   "source": [
    "df[\"Job_Title\"]=df[\"Job_Title\"].replace({\"Director\":0, \"Analyst\":1, \"Manager\":2, \"Engineer\":3})\n",
    "df"
   ]
  },
  {
   "cell_type": "code",
   "execution_count": 16,
   "id": "6366e7b8",
   "metadata": {},
   "outputs": [
    {
     "data": {
      "text/plain": [
       "{'Male': 516, 'Female': 484}"
      ]
     },
     "execution_count": 16,
     "metadata": {},
     "output_type": "execute_result"
    }
   ],
   "source": [
    "df[\"Gender\"].value_counts().to_dict()"
   ]
  },
  {
   "cell_type": "code",
   "execution_count": 17,
   "id": "0e93345b",
   "metadata": {},
   "outputs": [
    {
     "name": "stderr",
     "output_type": "stream",
     "text": [
      "C:\\Users\\Kirtibala.Gujar\\AppData\\Local\\Temp\\ipykernel_14132\\1680828659.py:1: FutureWarning: Downcasting behavior in `replace` is deprecated and will be removed in a future version. To retain the old behavior, explicitly call `result.infer_objects(copy=False)`. To opt-in to the future behavior, set `pd.set_option('future.no_silent_downcasting', True)`\n",
      "  df[\"Gender\"]=df[\"Gender\"].replace({\"Male\":0,\"Female\":1})\n"
     ]
    },
    {
     "data": {
      "text/html": [
       "<div>\n",
       "<style scoped>\n",
       "    .dataframe tbody tr th:only-of-type {\n",
       "        vertical-align: middle;\n",
       "    }\n",
       "\n",
       "    .dataframe tbody tr th {\n",
       "        vertical-align: top;\n",
       "    }\n",
       "\n",
       "    .dataframe thead th {\n",
       "        text-align: right;\n",
       "    }\n",
       "</style>\n",
       "<table border=\"1\" class=\"dataframe\">\n",
       "  <thead>\n",
       "    <tr style=\"text-align: right;\">\n",
       "      <th></th>\n",
       "      <th>Education</th>\n",
       "      <th>Experience</th>\n",
       "      <th>Location</th>\n",
       "      <th>Job_Title</th>\n",
       "      <th>Age</th>\n",
       "      <th>Gender</th>\n",
       "      <th>Salary</th>\n",
       "    </tr>\n",
       "  </thead>\n",
       "  <tbody>\n",
       "    <tr>\n",
       "      <th>0</th>\n",
       "      <td>0</td>\n",
       "      <td>8</td>\n",
       "      <td>2</td>\n",
       "      <td>2</td>\n",
       "      <td>63</td>\n",
       "      <td>0</td>\n",
       "      <td>84620.053665</td>\n",
       "    </tr>\n",
       "    <tr>\n",
       "      <th>1</th>\n",
       "      <td>2</td>\n",
       "      <td>11</td>\n",
       "      <td>0</td>\n",
       "      <td>0</td>\n",
       "      <td>59</td>\n",
       "      <td>0</td>\n",
       "      <td>142591.255894</td>\n",
       "    </tr>\n",
       "    <tr>\n",
       "      <th>2</th>\n",
       "      <td>1</td>\n",
       "      <td>28</td>\n",
       "      <td>0</td>\n",
       "      <td>2</td>\n",
       "      <td>61</td>\n",
       "      <td>1</td>\n",
       "      <td>97800.255404</td>\n",
       "    </tr>\n",
       "    <tr>\n",
       "      <th>3</th>\n",
       "      <td>0</td>\n",
       "      <td>29</td>\n",
       "      <td>1</td>\n",
       "      <td>0</td>\n",
       "      <td>45</td>\n",
       "      <td>0</td>\n",
       "      <td>96834.671282</td>\n",
       "    </tr>\n",
       "    <tr>\n",
       "      <th>4</th>\n",
       "      <td>2</td>\n",
       "      <td>25</td>\n",
       "      <td>2</td>\n",
       "      <td>1</td>\n",
       "      <td>26</td>\n",
       "      <td>1</td>\n",
       "      <td>132157.786175</td>\n",
       "    </tr>\n",
       "    <tr>\n",
       "      <th>...</th>\n",
       "      <td>...</td>\n",
       "      <td>...</td>\n",
       "      <td>...</td>\n",
       "      <td>...</td>\n",
       "      <td>...</td>\n",
       "      <td>...</td>\n",
       "      <td>...</td>\n",
       "    </tr>\n",
       "    <tr>\n",
       "      <th>995</th>\n",
       "      <td>0</td>\n",
       "      <td>8</td>\n",
       "      <td>0</td>\n",
       "      <td>1</td>\n",
       "      <td>25</td>\n",
       "      <td>1</td>\n",
       "      <td>64683.389864</td>\n",
       "    </tr>\n",
       "    <tr>\n",
       "      <th>996</th>\n",
       "      <td>0</td>\n",
       "      <td>24</td>\n",
       "      <td>2</td>\n",
       "      <td>3</td>\n",
       "      <td>30</td>\n",
       "      <td>1</td>\n",
       "      <td>74468.205020</td>\n",
       "    </tr>\n",
       "    <tr>\n",
       "      <th>997</th>\n",
       "      <td>3</td>\n",
       "      <td>18</td>\n",
       "      <td>1</td>\n",
       "      <td>1</td>\n",
       "      <td>44</td>\n",
       "      <td>0</td>\n",
       "      <td>98207.026024</td>\n",
       "    </tr>\n",
       "    <tr>\n",
       "      <th>998</th>\n",
       "      <td>1</td>\n",
       "      <td>27</td>\n",
       "      <td>0</td>\n",
       "      <td>0</td>\n",
       "      <td>31</td>\n",
       "      <td>1</td>\n",
       "      <td>108544.922720</td>\n",
       "    </tr>\n",
       "    <tr>\n",
       "      <th>999</th>\n",
       "      <td>0</td>\n",
       "      <td>25</td>\n",
       "      <td>2</td>\n",
       "      <td>0</td>\n",
       "      <td>41</td>\n",
       "      <td>1</td>\n",
       "      <td>71077.000066</td>\n",
       "    </tr>\n",
       "  </tbody>\n",
       "</table>\n",
       "<p>1000 rows × 7 columns</p>\n",
       "</div>"
      ],
      "text/plain": [
       "     Education  Experience  Location  Job_Title  Age  Gender         Salary\n",
       "0            0           8         2          2   63       0   84620.053665\n",
       "1            2          11         0          0   59       0  142591.255894\n",
       "2            1          28         0          2   61       1   97800.255404\n",
       "3            0          29         1          0   45       0   96834.671282\n",
       "4            2          25         2          1   26       1  132157.786175\n",
       "..         ...         ...       ...        ...  ...     ...            ...\n",
       "995          0           8         0          1   25       1   64683.389864\n",
       "996          0          24         2          3   30       1   74468.205020\n",
       "997          3          18         1          1   44       0   98207.026024\n",
       "998          1          27         0          0   31       1  108544.922720\n",
       "999          0          25         2          0   41       1   71077.000066\n",
       "\n",
       "[1000 rows x 7 columns]"
      ]
     },
     "execution_count": 17,
     "metadata": {},
     "output_type": "execute_result"
    }
   ],
   "source": [
    "df[\"Gender\"]=df[\"Gender\"].replace({\"Male\":0,\"Female\":1})\n",
    "df"
   ]
  },
  {
   "cell_type": "code",
   "execution_count": 18,
   "id": "879e4946",
   "metadata": {},
   "outputs": [
    {
     "name": "stdout",
     "output_type": "stream",
     "text": [
      "<class 'pandas.core.frame.DataFrame'>\n",
      "RangeIndex: 1000 entries, 0 to 999\n",
      "Data columns (total 7 columns):\n",
      " #   Column      Non-Null Count  Dtype  \n",
      "---  ------      --------------  -----  \n",
      " 0   Education   1000 non-null   int64  \n",
      " 1   Experience  1000 non-null   int64  \n",
      " 2   Location    1000 non-null   int64  \n",
      " 3   Job_Title   1000 non-null   int64  \n",
      " 4   Age         1000 non-null   int64  \n",
      " 5   Gender      1000 non-null   int64  \n",
      " 6   Salary      1000 non-null   float64\n",
      "dtypes: float64(1), int64(6)\n",
      "memory usage: 54.8 KB\n"
     ]
    }
   ],
   "source": [
    "df.info()"
   ]
  },
  {
   "cell_type": "code",
   "execution_count": 19,
   "id": "41613476",
   "metadata": {},
   "outputs": [
    {
     "name": "stdout",
     "output_type": "stream",
     "text": [
      "x      Education  Experience  Location  Job_Title  Age  Gender\n",
      "0            0           8         2          2   63       0\n",
      "1            2          11         0          0   59       0\n",
      "2            1          28         0          2   61       1\n",
      "3            0          29         1          0   45       0\n",
      "4            2          25         2          1   26       1\n",
      "..         ...         ...       ...        ...  ...     ...\n",
      "995          0           8         0          1   25       1\n",
      "996          0          24         2          3   30       1\n",
      "997          3          18         1          1   44       0\n",
      "998          1          27         0          0   31       1\n",
      "999          0          25         2          0   41       1\n",
      "\n",
      "[1000 rows x 6 columns]\n",
      "y 0       84620.053665\n",
      "1      142591.255894\n",
      "2       97800.255404\n",
      "3       96834.671282\n",
      "4      132157.786175\n",
      "           ...      \n",
      "995     64683.389864\n",
      "996     74468.205020\n",
      "997     98207.026024\n",
      "998    108544.922720\n",
      "999     71077.000066\n",
      "Name: Salary, Length: 1000, dtype: float64\n"
     ]
    }
   ],
   "source": [
    "x=df.drop('Salary', axis = 1)\n",
    "y=df['Salary']\n",
    "print('x',x)\n",
    "print('y', y)"
   ]
  },
  {
   "cell_type": "code",
   "execution_count": 23,
   "id": "ec454cee",
   "metadata": {},
   "outputs": [],
   "source": [
    "from sklearn.preprocessing import StandardScaler\n",
    "scaler=StandardScaler()"
   ]
  },
  {
   "cell_type": "code",
   "execution_count": 25,
   "id": "b6b60185",
   "metadata": {},
   "outputs": [
    {
     "data": {
      "text/plain": [
       "Education     0\n",
       "Experience    0\n",
       "Location      0\n",
       "Job_Title     0\n",
       "Age           0\n",
       "Gender        0\n",
       "Salary        0\n",
       "dtype: int64"
      ]
     },
     "execution_count": 25,
     "metadata": {},
     "output_type": "execute_result"
    }
   ],
   "source": [
    "df.isna().sum()"
   ]
  },
  {
   "cell_type": "code",
   "execution_count": 26,
   "id": "34c17715",
   "metadata": {},
   "outputs": [],
   "source": [
    "x_scale=scaler.fit_transform(x)"
   ]
  },
  {
   "cell_type": "code",
   "execution_count": 27,
   "id": "39c02348",
   "metadata": {},
   "outputs": [
    {
     "data": {
      "text/html": [
       "<div>\n",
       "<style scoped>\n",
       "    .dataframe tbody tr th:only-of-type {\n",
       "        vertical-align: middle;\n",
       "    }\n",
       "\n",
       "    .dataframe tbody tr th {\n",
       "        vertical-align: top;\n",
       "    }\n",
       "\n",
       "    .dataframe thead th {\n",
       "        text-align: right;\n",
       "    }\n",
       "</style>\n",
       "<table border=\"1\" class=\"dataframe\">\n",
       "  <thead>\n",
       "    <tr style=\"text-align: right;\">\n",
       "      <th></th>\n",
       "      <th>Education</th>\n",
       "      <th>Experience</th>\n",
       "      <th>Location</th>\n",
       "      <th>Job_Title</th>\n",
       "      <th>Age</th>\n",
       "      <th>Gender</th>\n",
       "    </tr>\n",
       "  </thead>\n",
       "  <tbody>\n",
       "    <tr>\n",
       "      <th>0</th>\n",
       "      <td>-1.326473</td>\n",
       "      <td>-0.812169</td>\n",
       "      <td>1.280048</td>\n",
       "      <td>0.514732</td>\n",
       "      <td>1.516107</td>\n",
       "      <td>-0.968496</td>\n",
       "    </tr>\n",
       "    <tr>\n",
       "      <th>1</th>\n",
       "      <td>0.468484</td>\n",
       "      <td>-0.452324</td>\n",
       "      <td>-1.193475</td>\n",
       "      <td>-1.272533</td>\n",
       "      <td>1.222045</td>\n",
       "      <td>-0.968496</td>\n",
       "    </tr>\n",
       "    <tr>\n",
       "      <th>2</th>\n",
       "      <td>-0.428995</td>\n",
       "      <td>1.586793</td>\n",
       "      <td>-1.193475</td>\n",
       "      <td>0.514732</td>\n",
       "      <td>1.369076</td>\n",
       "      <td>1.032529</td>\n",
       "    </tr>\n",
       "    <tr>\n",
       "      <th>3</th>\n",
       "      <td>-1.326473</td>\n",
       "      <td>1.706741</td>\n",
       "      <td>0.043287</td>\n",
       "      <td>-1.272533</td>\n",
       "      <td>0.192831</td>\n",
       "      <td>-0.968496</td>\n",
       "    </tr>\n",
       "    <tr>\n",
       "      <th>4</th>\n",
       "      <td>0.468484</td>\n",
       "      <td>1.226949</td>\n",
       "      <td>1.280048</td>\n",
       "      <td>-0.378900</td>\n",
       "      <td>-1.203961</td>\n",
       "      <td>1.032529</td>\n",
       "    </tr>\n",
       "    <tr>\n",
       "      <th>...</th>\n",
       "      <td>...</td>\n",
       "      <td>...</td>\n",
       "      <td>...</td>\n",
       "      <td>...</td>\n",
       "      <td>...</td>\n",
       "      <td>...</td>\n",
       "    </tr>\n",
       "    <tr>\n",
       "      <th>995</th>\n",
       "      <td>-1.326473</td>\n",
       "      <td>-0.812169</td>\n",
       "      <td>-1.193475</td>\n",
       "      <td>-0.378900</td>\n",
       "      <td>-1.277476</td>\n",
       "      <td>1.032529</td>\n",
       "    </tr>\n",
       "    <tr>\n",
       "      <th>996</th>\n",
       "      <td>-1.326473</td>\n",
       "      <td>1.107001</td>\n",
       "      <td>1.280048</td>\n",
       "      <td>1.408365</td>\n",
       "      <td>-0.909899</td>\n",
       "      <td>1.032529</td>\n",
       "    </tr>\n",
       "    <tr>\n",
       "      <th>997</th>\n",
       "      <td>1.365962</td>\n",
       "      <td>0.387312</td>\n",
       "      <td>0.043287</td>\n",
       "      <td>-0.378900</td>\n",
       "      <td>0.119315</td>\n",
       "      <td>-0.968496</td>\n",
       "    </tr>\n",
       "    <tr>\n",
       "      <th>998</th>\n",
       "      <td>-0.428995</td>\n",
       "      <td>1.466845</td>\n",
       "      <td>-1.193475</td>\n",
       "      <td>-1.272533</td>\n",
       "      <td>-0.836384</td>\n",
       "      <td>1.032529</td>\n",
       "    </tr>\n",
       "    <tr>\n",
       "      <th>999</th>\n",
       "      <td>-1.326473</td>\n",
       "      <td>1.226949</td>\n",
       "      <td>1.280048</td>\n",
       "      <td>-1.272533</td>\n",
       "      <td>-0.101231</td>\n",
       "      <td>1.032529</td>\n",
       "    </tr>\n",
       "  </tbody>\n",
       "</table>\n",
       "<p>1000 rows × 6 columns</p>\n",
       "</div>"
      ],
      "text/plain": [
       "     Education  Experience  Location  Job_Title       Age    Gender\n",
       "0    -1.326473   -0.812169  1.280048   0.514732  1.516107 -0.968496\n",
       "1     0.468484   -0.452324 -1.193475  -1.272533  1.222045 -0.968496\n",
       "2    -0.428995    1.586793 -1.193475   0.514732  1.369076  1.032529\n",
       "3    -1.326473    1.706741  0.043287  -1.272533  0.192831 -0.968496\n",
       "4     0.468484    1.226949  1.280048  -0.378900 -1.203961  1.032529\n",
       "..         ...         ...       ...        ...       ...       ...\n",
       "995  -1.326473   -0.812169 -1.193475  -0.378900 -1.277476  1.032529\n",
       "996  -1.326473    1.107001  1.280048   1.408365 -0.909899  1.032529\n",
       "997   1.365962    0.387312  0.043287  -0.378900  0.119315 -0.968496\n",
       "998  -0.428995    1.466845 -1.193475  -1.272533 -0.836384  1.032529\n",
       "999  -1.326473    1.226949  1.280048  -1.272533 -0.101231  1.032529\n",
       "\n",
       "[1000 rows x 6 columns]"
      ]
     },
     "execution_count": 27,
     "metadata": {},
     "output_type": "execute_result"
    }
   ],
   "source": [
    "x_scale_df= pd.DataFrame(x_scale,columns=x.columns)\n",
    "x_scale_df"
   ]
  },
  {
   "cell_type": "code",
   "execution_count": 28,
   "id": "45d76461",
   "metadata": {},
   "outputs": [],
   "source": [
    "from sklearn.model_selection import train_test_split"
   ]
  },
  {
   "cell_type": "code",
   "execution_count": 29,
   "id": "2a660eb3",
   "metadata": {},
   "outputs": [],
   "source": [
    "x_train,x_test,y_train,y_test=train_test_split(x_scale_df,y,test_size=0.2)"
   ]
  },
  {
   "cell_type": "code",
   "execution_count": 30,
   "id": "b5b9ba9f",
   "metadata": {},
   "outputs": [
    {
     "data": {
      "text/html": [
       "<div>\n",
       "<style scoped>\n",
       "    .dataframe tbody tr th:only-of-type {\n",
       "        vertical-align: middle;\n",
       "    }\n",
       "\n",
       "    .dataframe tbody tr th {\n",
       "        vertical-align: top;\n",
       "    }\n",
       "\n",
       "    .dataframe thead th {\n",
       "        text-align: right;\n",
       "    }\n",
       "</style>\n",
       "<table border=\"1\" class=\"dataframe\">\n",
       "  <thead>\n",
       "    <tr style=\"text-align: right;\">\n",
       "      <th></th>\n",
       "      <th>Education</th>\n",
       "      <th>Experience</th>\n",
       "      <th>Location</th>\n",
       "      <th>Job_Title</th>\n",
       "      <th>Age</th>\n",
       "      <th>Gender</th>\n",
       "    </tr>\n",
       "  </thead>\n",
       "  <tbody>\n",
       "    <tr>\n",
       "      <th>723</th>\n",
       "      <td>-0.428995</td>\n",
       "      <td>0.267364</td>\n",
       "      <td>-1.193475</td>\n",
       "      <td>-0.378900</td>\n",
       "      <td>1.442591</td>\n",
       "      <td>1.032529</td>\n",
       "    </tr>\n",
       "    <tr>\n",
       "      <th>165</th>\n",
       "      <td>0.468484</td>\n",
       "      <td>-0.092480</td>\n",
       "      <td>-1.193475</td>\n",
       "      <td>-0.378900</td>\n",
       "      <td>-1.498022</td>\n",
       "      <td>1.032529</td>\n",
       "    </tr>\n",
       "    <tr>\n",
       "      <th>569</th>\n",
       "      <td>0.468484</td>\n",
       "      <td>0.387312</td>\n",
       "      <td>0.043287</td>\n",
       "      <td>-0.378900</td>\n",
       "      <td>1.001499</td>\n",
       "      <td>1.032529</td>\n",
       "    </tr>\n",
       "    <tr>\n",
       "      <th>225</th>\n",
       "      <td>0.468484</td>\n",
       "      <td>-0.932117</td>\n",
       "      <td>1.280048</td>\n",
       "      <td>-1.272533</td>\n",
       "      <td>1.295561</td>\n",
       "      <td>-0.968496</td>\n",
       "    </tr>\n",
       "    <tr>\n",
       "      <th>544</th>\n",
       "      <td>-0.428995</td>\n",
       "      <td>1.107001</td>\n",
       "      <td>1.280048</td>\n",
       "      <td>-1.272533</td>\n",
       "      <td>-1.130445</td>\n",
       "      <td>-0.968496</td>\n",
       "    </tr>\n",
       "    <tr>\n",
       "      <th>...</th>\n",
       "      <td>...</td>\n",
       "      <td>...</td>\n",
       "      <td>...</td>\n",
       "      <td>...</td>\n",
       "      <td>...</td>\n",
       "      <td>...</td>\n",
       "    </tr>\n",
       "    <tr>\n",
       "      <th>861</th>\n",
       "      <td>1.365962</td>\n",
       "      <td>0.267364</td>\n",
       "      <td>0.043287</td>\n",
       "      <td>0.514732</td>\n",
       "      <td>-0.836384</td>\n",
       "      <td>-0.968496</td>\n",
       "    </tr>\n",
       "    <tr>\n",
       "      <th>822</th>\n",
       "      <td>1.365962</td>\n",
       "      <td>-0.812169</td>\n",
       "      <td>0.043287</td>\n",
       "      <td>-0.378900</td>\n",
       "      <td>-1.203961</td>\n",
       "      <td>-0.968496</td>\n",
       "    </tr>\n",
       "    <tr>\n",
       "      <th>840</th>\n",
       "      <td>1.365962</td>\n",
       "      <td>-1.291961</td>\n",
       "      <td>-1.193475</td>\n",
       "      <td>-0.378900</td>\n",
       "      <td>-1.350991</td>\n",
       "      <td>-0.968496</td>\n",
       "    </tr>\n",
       "    <tr>\n",
       "      <th>58</th>\n",
       "      <td>-1.326473</td>\n",
       "      <td>-1.052065</td>\n",
       "      <td>0.043287</td>\n",
       "      <td>1.408365</td>\n",
       "      <td>-1.203961</td>\n",
       "      <td>1.032529</td>\n",
       "    </tr>\n",
       "    <tr>\n",
       "      <th>357</th>\n",
       "      <td>-0.428995</td>\n",
       "      <td>1.706741</td>\n",
       "      <td>1.280048</td>\n",
       "      <td>-1.272533</td>\n",
       "      <td>-1.350991</td>\n",
       "      <td>-0.968496</td>\n",
       "    </tr>\n",
       "  </tbody>\n",
       "</table>\n",
       "<p>800 rows × 6 columns</p>\n",
       "</div>"
      ],
      "text/plain": [
       "     Education  Experience  Location  Job_Title       Age    Gender\n",
       "723  -0.428995    0.267364 -1.193475  -0.378900  1.442591  1.032529\n",
       "165   0.468484   -0.092480 -1.193475  -0.378900 -1.498022  1.032529\n",
       "569   0.468484    0.387312  0.043287  -0.378900  1.001499  1.032529\n",
       "225   0.468484   -0.932117  1.280048  -1.272533  1.295561 -0.968496\n",
       "544  -0.428995    1.107001  1.280048  -1.272533 -1.130445 -0.968496\n",
       "..         ...         ...       ...        ...       ...       ...\n",
       "861   1.365962    0.267364  0.043287   0.514732 -0.836384 -0.968496\n",
       "822   1.365962   -0.812169  0.043287  -0.378900 -1.203961 -0.968496\n",
       "840   1.365962   -1.291961 -1.193475  -0.378900 -1.350991 -0.968496\n",
       "58   -1.326473   -1.052065  0.043287   1.408365 -1.203961  1.032529\n",
       "357  -0.428995    1.706741  1.280048  -1.272533 -1.350991 -0.968496\n",
       "\n",
       "[800 rows x 6 columns]"
      ]
     },
     "execution_count": 30,
     "metadata": {},
     "output_type": "execute_result"
    }
   ],
   "source": [
    "x_train"
   ]
  },
  {
   "cell_type": "code",
   "execution_count": 31,
   "id": "584adce9",
   "metadata": {},
   "outputs": [
    {
     "data": {
      "text/plain": [
       "723     99639.302024\n",
       "165    136466.951409\n",
       "569    138709.647087\n",
       "225    131042.223886\n",
       "544    117826.576534\n",
       "           ...      \n",
       "861    112862.375063\n",
       "822     90855.048935\n",
       "840     97173.289537\n",
       "58      67767.869624\n",
       "357    117235.268456\n",
       "Name: Salary, Length: 800, dtype: float64"
      ]
     },
     "execution_count": 31,
     "metadata": {},
     "output_type": "execute_result"
    }
   ],
   "source": [
    "y_train"
   ]
  },
  {
   "cell_type": "code",
   "execution_count": 32,
   "id": "94fa372c",
   "metadata": {},
   "outputs": [],
   "source": [
    "from sklearn.neighbors import KNeighborsRegressor"
   ]
  },
  {
   "cell_type": "code",
   "execution_count": 55,
   "id": "7ab32e83",
   "metadata": {},
   "outputs": [],
   "source": [
    "from sklearn.neighbors import KNeighborsRegressor\n",
    "from sklearn.model_selection import train_test_split,GridSearchCV,RandomizedSearchCV\n",
    "from sklearn.preprocessing import StandardScaler\n",
    "from sklearn.metrics import mean_squared_error,r2_score\n"
   ]
  },
  {
   "cell_type": "code",
   "execution_count": 61,
   "id": "cdc8d9a7",
   "metadata": {},
   "outputs": [],
   "source": [
    "k=2\n",
    "knn = KNeighborsRegressor(n_neighbors=k)"
   ]
  },
  {
   "cell_type": "code",
   "execution_count": 87,
   "id": "8a99fc1e",
   "metadata": {},
   "outputs": [
    {
     "data": {
      "text/html": [
       "<style>#sk-container-id-14 {color: black;}#sk-container-id-14 pre{padding: 0;}#sk-container-id-14 div.sk-toggleable {background-color: white;}#sk-container-id-14 label.sk-toggleable__label {cursor: pointer;display: block;width: 100%;margin-bottom: 0;padding: 0.3em;box-sizing: border-box;text-align: center;}#sk-container-id-14 label.sk-toggleable__label-arrow:before {content: \"▸\";float: left;margin-right: 0.25em;color: #696969;}#sk-container-id-14 label.sk-toggleable__label-arrow:hover:before {color: black;}#sk-container-id-14 div.sk-estimator:hover label.sk-toggleable__label-arrow:before {color: black;}#sk-container-id-14 div.sk-toggleable__content {max-height: 0;max-width: 0;overflow: hidden;text-align: left;background-color: #f0f8ff;}#sk-container-id-14 div.sk-toggleable__content pre {margin: 0.2em;color: black;border-radius: 0.25em;background-color: #f0f8ff;}#sk-container-id-14 input.sk-toggleable__control:checked~div.sk-toggleable__content {max-height: 200px;max-width: 100%;overflow: auto;}#sk-container-id-14 input.sk-toggleable__control:checked~label.sk-toggleable__label-arrow:before {content: \"▾\";}#sk-container-id-14 div.sk-estimator input.sk-toggleable__control:checked~label.sk-toggleable__label {background-color: #d4ebff;}#sk-container-id-14 div.sk-label input.sk-toggleable__control:checked~label.sk-toggleable__label {background-color: #d4ebff;}#sk-container-id-14 input.sk-hidden--visually {border: 0;clip: rect(1px 1px 1px 1px);clip: rect(1px, 1px, 1px, 1px);height: 1px;margin: -1px;overflow: hidden;padding: 0;position: absolute;width: 1px;}#sk-container-id-14 div.sk-estimator {font-family: monospace;background-color: #f0f8ff;border: 1px dotted black;border-radius: 0.25em;box-sizing: border-box;margin-bottom: 0.5em;}#sk-container-id-14 div.sk-estimator:hover {background-color: #d4ebff;}#sk-container-id-14 div.sk-parallel-item::after {content: \"\";width: 100%;border-bottom: 1px solid gray;flex-grow: 1;}#sk-container-id-14 div.sk-label:hover label.sk-toggleable__label {background-color: #d4ebff;}#sk-container-id-14 div.sk-serial::before {content: \"\";position: absolute;border-left: 1px solid gray;box-sizing: border-box;top: 0;bottom: 0;left: 50%;z-index: 0;}#sk-container-id-14 div.sk-serial {display: flex;flex-direction: column;align-items: center;background-color: white;padding-right: 0.2em;padding-left: 0.2em;position: relative;}#sk-container-id-14 div.sk-item {position: relative;z-index: 1;}#sk-container-id-14 div.sk-parallel {display: flex;align-items: stretch;justify-content: center;background-color: white;position: relative;}#sk-container-id-14 div.sk-item::before, #sk-container-id-14 div.sk-parallel-item::before {content: \"\";position: absolute;border-left: 1px solid gray;box-sizing: border-box;top: 0;bottom: 0;left: 50%;z-index: -1;}#sk-container-id-14 div.sk-parallel-item {display: flex;flex-direction: column;z-index: 1;position: relative;background-color: white;}#sk-container-id-14 div.sk-parallel-item:first-child::after {align-self: flex-end;width: 50%;}#sk-container-id-14 div.sk-parallel-item:last-child::after {align-self: flex-start;width: 50%;}#sk-container-id-14 div.sk-parallel-item:only-child::after {width: 0;}#sk-container-id-14 div.sk-dashed-wrapped {border: 1px dashed gray;margin: 0 0.4em 0.5em 0.4em;box-sizing: border-box;padding-bottom: 0.4em;background-color: white;}#sk-container-id-14 div.sk-label label {font-family: monospace;font-weight: bold;display: inline-block;line-height: 1.2em;}#sk-container-id-14 div.sk-label-container {text-align: center;}#sk-container-id-14 div.sk-container {/* jupyter's `normalize.less` sets `[hidden] { display: none; }` but bootstrap.min.css set `[hidden] { display: none !important; }` so we also need the `!important` here to be able to override the default hidden behavior on the sphinx rendered scikit-learn.org. See: https://github.com/scikit-learn/scikit-learn/issues/21755 */display: inline-block !important;position: relative;}#sk-container-id-14 div.sk-text-repr-fallback {display: none;}</style><div id=\"sk-container-id-14\" class=\"sk-top-container\"><div class=\"sk-text-repr-fallback\"><pre>KNeighborsRegressor(n_neighbors=8, p=1)</pre><b>In a Jupyter environment, please rerun this cell to show the HTML representation or trust the notebook. <br />On GitHub, the HTML representation is unable to render, please try loading this page with nbviewer.org.</b></div><div class=\"sk-container\" hidden><div class=\"sk-item\"><div class=\"sk-estimator sk-toggleable\"><input class=\"sk-toggleable__control sk-hidden--visually\" id=\"sk-estimator-id-14\" type=\"checkbox\" checked><label for=\"sk-estimator-id-14\" class=\"sk-toggleable__label sk-toggleable__label-arrow\">KNeighborsRegressor</label><div class=\"sk-toggleable__content\"><pre>KNeighborsRegressor(n_neighbors=8, p=1)</pre></div></div></div></div></div>"
      ],
      "text/plain": [
       "KNeighborsRegressor(n_neighbors=8, p=1)"
      ]
     },
     "execution_count": 87,
     "metadata": {},
     "output_type": "execute_result"
    }
   ],
   "source": [
    "knn.fit(x_train, y_train)"
   ]
  },
  {
   "cell_type": "code",
   "execution_count": 39,
   "id": "e9eeaf9e",
   "metadata": {
    "scrolled": true
   },
   "outputs": [
    {
     "data": {
      "text/plain": [
       "array([148126.95355877, 114514.50159746,  93644.84318143, 124259.9159508 ,\n",
       "       111910.19678419, 108929.81200493, 120198.81580774,  99493.3553088 ,\n",
       "       148092.03548168, 105462.36889321,  61048.16888964,  80931.76166438,\n",
       "        92882.99648951, 119165.41964777,  78663.87412347,  96714.30500438,\n",
       "       108368.99008163,  90236.05225382, 142487.0498846 , 153022.34169546,\n",
       "       103651.07565686, 136176.1345145 ,  88908.0152613 , 102878.18161487,\n",
       "       112536.47900328,  78281.0591467 , 139397.5705377 , 122089.38230265,\n",
       "       103434.54972679, 115086.73005245, 138332.8932908 ,  90130.95048892,\n",
       "       120040.56939653, 114226.74893271,  71072.27333792,  78645.19756564,\n",
       "        85676.57477238, 102378.80762029, 115404.49683549,  89988.96282876,\n",
       "       162270.37851026, 128575.1769829 ,  62979.62420982, 127690.41593785,\n",
       "       153000.66587112, 106480.2988259 , 104036.4243515 , 141495.54569749,\n",
       "        82290.13437631,  92075.99805745,  95503.09801057, 112610.44269563,\n",
       "        88915.20304295,  99409.18582769, 115232.5748625 , 108713.33817217,\n",
       "        72764.52983461, 120198.81580774, 117887.44114026,  89156.56128099,\n",
       "       121400.89841417, 115389.36017351, 116266.69056438,  80299.95422123,\n",
       "        99161.36273804, 103738.81054652,  56721.66632842, 122800.79375791,\n",
       "       133277.01116308,  70963.74336074,  80118.49353903, 143986.55252692,\n",
       "        96896.37936335,  80014.63837216, 107722.65469475, 144775.2443384 ,\n",
       "       126973.50072262,  91700.3428781 ,  82290.13437631, 118682.77267848,\n",
       "       109888.13451115,  99343.83823195,  93644.84318143,  61373.12803477,\n",
       "       110556.91499909,  97038.59384636,  88859.61337205, 125057.61496803,\n",
       "       125186.00804641, 112763.54363417,  65389.43942733, 128448.25679298,\n",
       "       111753.67105666, 109924.53519809, 166374.59305923, 113434.61122256,\n",
       "       142019.109964  , 132407.43442209, 111095.9426108 , 122124.70538587,\n",
       "       125693.32377428,  82141.67974337, 151473.86061496,  71026.31739344,\n",
       "        90892.22243077,  83797.24968796,  55183.51915559, 107631.95350063,\n",
       "        96245.58077249,  76758.45751812, 106639.1818144 , 123969.90340529,\n",
       "        65277.45693463,  56721.66632842,  70866.7754493 ,  64455.85927596,\n",
       "        96873.8595897 ,  89780.41639757,  72041.14290993,  70268.27845719,\n",
       "       119142.74654078,  80105.63730676,  92018.2490829 ,  73614.81709185,\n",
       "        95977.88968167,  90236.05225382, 128640.34315414,  95792.58154025,\n",
       "        60096.79376791, 124051.66278263, 110203.01542786, 124350.53108423,\n",
       "        88806.80015107, 113686.56519862,  95781.04576044, 117361.78930757,\n",
       "        82781.35698754,  75793.84825269,  49416.11075903,  59899.21245372,\n",
       "       148172.74244693, 123977.15974463, 120262.72314851,  68283.32217871,\n",
       "       100755.6072715 ,  90138.52358342, 129679.63738153,  73255.39339712,\n",
       "        64808.91943722, 112679.2539952 , 121242.20336649,  97168.16901994,\n",
       "       158841.3212382 , 109408.40222003, 133432.05527622, 121126.43793248,\n",
       "       148973.52715775, 102964.70792704, 131622.19201047, 118058.07012358,\n",
       "        71132.93779068,  69591.75221292, 103345.6680905 , 113582.82951546,\n",
       "        87718.1060353 ,  88156.83334311, 112545.38425446, 150042.684228  ,\n",
       "        82383.91124788,  82486.24427178, 105453.50663643, 100577.2080975 ,\n",
       "        78514.26435718, 102672.24561633, 152525.51893653, 133527.10521521,\n",
       "        69591.75221292,  96738.59116395,  67120.49450783, 138572.65730673,\n",
       "        79220.28677367, 148003.97650195,  69156.2267681 ,  89063.97371037,\n",
       "       110556.91499909,  80915.0628605 ,  92272.43595391,  90236.05225382,\n",
       "       100363.5825022 ,  89085.57267834,  88156.83334311, 113079.07806725,\n",
       "        76139.35362401, 154315.38689571,  75945.42687454, 111079.25564217,\n",
       "       128575.1769829 , 106770.92628761, 130476.64733195,  78645.19756564])"
      ]
     },
     "execution_count": 39,
     "metadata": {},
     "output_type": "execute_result"
    }
   ],
   "source": [
    "predictions = knn.predict(x_test)\n",
    "predictions "
   ]
  },
  {
   "cell_type": "code",
   "execution_count": 40,
   "id": "14e7a243",
   "metadata": {},
   "outputs": [
    {
     "name": "stdout",
     "output_type": "stream",
     "text": [
      "Mean Squared Error: 300092129.2673327\n"
     ]
    }
   ],
   "source": [
    "# Evaluate the model\n",
    "mse = mean_squared_error(y_test, predictions)\n",
    "print(\"Mean Squared Error:\", mse)"
   ]
  },
  {
   "cell_type": "code",
   "execution_count": 59,
   "id": "596d9ddb",
   "metadata": {},
   "outputs": [
    {
     "name": "stdout",
     "output_type": "stream",
     "text": [
      "Mean Absolute percentage 213757565.94826722\n",
      "Mean Suared error: 213757565.94826722\n",
      "R square value: 0.7459213877913349\n"
     ]
    }
   ],
   "source": [
    "from sklearn.metrics import mean_absolute_percentage_error\n",
    "mae = mean_squared_error(y_test, predictions)\n",
    "print(\"Mean Absolute percentage\", mae)\n",
    "mse = mean_squared_error(y_test, predictions)\n",
    "print(\"Mean Suared error:\", mse)\n",
    "r_suare=r2_score(y_test,predictions)\n",
    "print(\"R square value:\",r_suare)"
   ]
  },
  {
   "cell_type": "code",
   "execution_count": 85,
   "id": "58988e81",
   "metadata": {},
   "outputs": [
    {
     "name": "stdout",
     "output_type": "stream",
     "text": [
      "Mean Suared error: 142803765.1232271\n",
      "Mean Absolute percentage: 142803765.1232271\n",
      "R square value: 0.8181993139280523\n"
     ]
    }
   ],
   "source": [
    "pred_train = knn.predict(x_train)\n",
    "mse = mean_squared_error(y_train, pred_train)\n",
    "print(\"Mean Suared error:\", mse)\n",
    "mae = mean_squared_error(y_train, pred_train)\n",
    "print(\"Mean Absolute percentage:\", mae)\n",
    "r_suare=r2_score(y_train,pred_train)\n",
    "print(\"R square value:\",r_suare)"
   ]
  },
  {
   "cell_type": "code",
   "execution_count": 49,
   "id": "d0868a3d",
   "metadata": {},
   "outputs": [],
   "source": [
    "knn_mode= KNeighborsRegressor()\n",
    "hyp_para= {\"n_neighbors\":np.arange(2,10),'p':[1,2]}"
   ]
  },
  {
   "cell_type": "code",
   "execution_count": 50,
   "id": "6f2d18b5",
   "metadata": {},
   "outputs": [
    {
     "name": "stdout",
     "output_type": "stream",
     "text": [
      "best Estimator: 8\n"
     ]
    }
   ],
   "source": [
    "gscv_model=GridSearchCV(knn_mode,hyp_para, cv=5)\n",
    "gscv_model.fit(x_train,y_train)\n",
    "print(\"best Estimator:\",gscv_model.best_index_)"
   ]
  },
  {
   "cell_type": "code",
   "execution_count": 81,
   "id": "8223ebe7",
   "metadata": {},
   "outputs": [
    {
     "data": {
      "text/html": [
       "<style>#sk-container-id-12 {color: black;}#sk-container-id-12 pre{padding: 0;}#sk-container-id-12 div.sk-toggleable {background-color: white;}#sk-container-id-12 label.sk-toggleable__label {cursor: pointer;display: block;width: 100%;margin-bottom: 0;padding: 0.3em;box-sizing: border-box;text-align: center;}#sk-container-id-12 label.sk-toggleable__label-arrow:before {content: \"▸\";float: left;margin-right: 0.25em;color: #696969;}#sk-container-id-12 label.sk-toggleable__label-arrow:hover:before {color: black;}#sk-container-id-12 div.sk-estimator:hover label.sk-toggleable__label-arrow:before {color: black;}#sk-container-id-12 div.sk-toggleable__content {max-height: 0;max-width: 0;overflow: hidden;text-align: left;background-color: #f0f8ff;}#sk-container-id-12 div.sk-toggleable__content pre {margin: 0.2em;color: black;border-radius: 0.25em;background-color: #f0f8ff;}#sk-container-id-12 input.sk-toggleable__control:checked~div.sk-toggleable__content {max-height: 200px;max-width: 100%;overflow: auto;}#sk-container-id-12 input.sk-toggleable__control:checked~label.sk-toggleable__label-arrow:before {content: \"▾\";}#sk-container-id-12 div.sk-estimator input.sk-toggleable__control:checked~label.sk-toggleable__label {background-color: #d4ebff;}#sk-container-id-12 div.sk-label input.sk-toggleable__control:checked~label.sk-toggleable__label {background-color: #d4ebff;}#sk-container-id-12 input.sk-hidden--visually {border: 0;clip: rect(1px 1px 1px 1px);clip: rect(1px, 1px, 1px, 1px);height: 1px;margin: -1px;overflow: hidden;padding: 0;position: absolute;width: 1px;}#sk-container-id-12 div.sk-estimator {font-family: monospace;background-color: #f0f8ff;border: 1px dotted black;border-radius: 0.25em;box-sizing: border-box;margin-bottom: 0.5em;}#sk-container-id-12 div.sk-estimator:hover {background-color: #d4ebff;}#sk-container-id-12 div.sk-parallel-item::after {content: \"\";width: 100%;border-bottom: 1px solid gray;flex-grow: 1;}#sk-container-id-12 div.sk-label:hover label.sk-toggleable__label {background-color: #d4ebff;}#sk-container-id-12 div.sk-serial::before {content: \"\";position: absolute;border-left: 1px solid gray;box-sizing: border-box;top: 0;bottom: 0;left: 50%;z-index: 0;}#sk-container-id-12 div.sk-serial {display: flex;flex-direction: column;align-items: center;background-color: white;padding-right: 0.2em;padding-left: 0.2em;position: relative;}#sk-container-id-12 div.sk-item {position: relative;z-index: 1;}#sk-container-id-12 div.sk-parallel {display: flex;align-items: stretch;justify-content: center;background-color: white;position: relative;}#sk-container-id-12 div.sk-item::before, #sk-container-id-12 div.sk-parallel-item::before {content: \"\";position: absolute;border-left: 1px solid gray;box-sizing: border-box;top: 0;bottom: 0;left: 50%;z-index: -1;}#sk-container-id-12 div.sk-parallel-item {display: flex;flex-direction: column;z-index: 1;position: relative;background-color: white;}#sk-container-id-12 div.sk-parallel-item:first-child::after {align-self: flex-end;width: 50%;}#sk-container-id-12 div.sk-parallel-item:last-child::after {align-self: flex-start;width: 50%;}#sk-container-id-12 div.sk-parallel-item:only-child::after {width: 0;}#sk-container-id-12 div.sk-dashed-wrapped {border: 1px dashed gray;margin: 0 0.4em 0.5em 0.4em;box-sizing: border-box;padding-bottom: 0.4em;background-color: white;}#sk-container-id-12 div.sk-label label {font-family: monospace;font-weight: bold;display: inline-block;line-height: 1.2em;}#sk-container-id-12 div.sk-label-container {text-align: center;}#sk-container-id-12 div.sk-container {/* jupyter's `normalize.less` sets `[hidden] { display: none; }` but bootstrap.min.css set `[hidden] { display: none !important; }` so we also need the `!important` here to be able to override the default hidden behavior on the sphinx rendered scikit-learn.org. See: https://github.com/scikit-learn/scikit-learn/issues/21755 */display: inline-block !important;position: relative;}#sk-container-id-12 div.sk-text-repr-fallback {display: none;}</style><div id=\"sk-container-id-12\" class=\"sk-top-container\"><div class=\"sk-text-repr-fallback\"><pre>KNeighborsRegressor(n_neighbors=8, p=1)</pre><b>In a Jupyter environment, please rerun this cell to show the HTML representation or trust the notebook. <br />On GitHub, the HTML representation is unable to render, please try loading this page with nbviewer.org.</b></div><div class=\"sk-container\" hidden><div class=\"sk-item\"><div class=\"sk-estimator sk-toggleable\"><input class=\"sk-toggleable__control sk-hidden--visually\" id=\"sk-estimator-id-12\" type=\"checkbox\" checked><label for=\"sk-estimator-id-12\" class=\"sk-toggleable__label sk-toggleable__label-arrow\">KNeighborsRegressor</label><div class=\"sk-toggleable__content\"><pre>KNeighborsRegressor(n_neighbors=8, p=1)</pre></div></div></div></div></div>"
      ],
      "text/plain": [
       "KNeighborsRegressor(n_neighbors=8, p=1)"
      ]
     },
     "execution_count": 81,
     "metadata": {},
     "output_type": "execute_result"
    }
   ],
   "source": [
    "k=8\n",
    "knn = KNeighborsRegressor(n_neighbors=k,p=1)\n",
    "knn.fit(x_train, y_train)"
   ]
  },
  {
   "cell_type": "code",
   "execution_count": 82,
   "id": "e1dfa843",
   "metadata": {},
   "outputs": [
    {
     "name": "stdout",
     "output_type": "stream",
     "text": [
      "Mean Suared error: 213757565.94826722\n",
      "Mean Absolute percentage: 213757565.94826722\n",
      "R square value: 0.7459213877913349\n"
     ]
    }
   ],
   "source": [
    "predictions = knn.predict(x_test)\n",
    "mse = mean_squared_error(y_test, predictions)\n",
    "print(\"Mean Suared error:\", mse)\n",
    "mae = mean_squared_error(y_test, predictions)\n",
    "print(\"Mean Absolute percentage:\", mae)\n",
    "r_suare=r2_score(y_test,predictions)\n",
    "print(\"R square value:\",r_suare)"
   ]
  },
  {
   "cell_type": "code",
   "execution_count": 83,
   "id": "6100a468",
   "metadata": {},
   "outputs": [
    {
     "name": "stdout",
     "output_type": "stream",
     "text": [
      "Mean Suared error: 142803765.1232271\n",
      "Mean Absolute percentage: 142803765.1232271\n",
      "R square value: 0.8181993139280523\n"
     ]
    }
   ],
   "source": [
    "predictions_train = knn.predict(x_train)\n",
    "mse = mean_squared_error(y_train, predictions_train)\n",
    "print(\"Mean Suared error:\", mse)\n",
    "mae = mean_squared_error(y_train, predictions_train)\n",
    "print(\"Mean Absolute percentage:\", mae)\n",
    "r_suare=r2_score(y_train,predictions_train)\n",
    "print(\"R square value:\",r_suare)"
   ]
  },
  {
   "cell_type": "code",
   "execution_count": null,
   "id": "a1dda1e4",
   "metadata": {},
   "outputs": [],
   "source": []
  }
 ],
 "metadata": {
  "kernelspec": {
   "display_name": "Python 3 (ipykernel)",
   "language": "python",
   "name": "python3"
  },
  "language_info": {
   "codemirror_mode": {
    "name": "ipython",
    "version": 3
   },
   "file_extension": ".py",
   "mimetype": "text/x-python",
   "name": "python",
   "nbconvert_exporter": "python",
   "pygments_lexer": "ipython3",
   "version": "3.11.5"
  }
 },
 "nbformat": 4,
 "nbformat_minor": 5
}
